{
 "cells": [
  {
   "cell_type": "code",
   "execution_count": 1,
   "metadata": {},
   "outputs": [
    {
     "name": "stdout",
     "output_type": "stream",
     "text": [
      "GET ALL RECORDS [200]: [\n",
      "    {\n",
      "        \"id\": \"2\",\n",
      "        \"name\": \"SSS\",\n",
      "        \"val\": 0\n",
      "    },\n",
      "    {\n",
      "        \"id\": \"1\",\n",
      "        \"name\": \"ASASS\",\n",
      "        \"val\": 0.001\n",
      "    },\n",
      "    {\n",
      "        \"id\": \"5\",\n",
      "        \"name\": \"hoalaa\",\n",
      "        \"val\": 3.31\n",
      "    }\n",
      "]\n"
     ]
    }
   ],
   "source": [
    "import requests\n",
    "# get records\n",
    "get_record = requests.get(\n",
    "    url = \"http://localhost:8000/records\",\n",
    "    headers = {\"Content-Type\": \"application/json\"}\n",
    ")\n",
    "print(f\"GET ALL RECORDS [{get_record.status_code}]: \"\n",
    "    f\"{get_record.text}\")"
   ]
  },
  {
   "cell_type": "code",
   "execution_count": 58,
   "metadata": {},
   "outputs": [
    {
     "name": "stdout",
     "output_type": "stream",
     "text": [
      "POST RECORD [201]: {\n",
      "    \"id\": \"666\",\n",
      "    \"name\": \"success\",\n",
      "    \"val\": 0.2\n",
      "}\n"
     ]
    }
   ],
   "source": [
    "# post record\n",
    "import json\n",
    "post_record = requests.post(\n",
    "    url = \"http://localhost:8000/records\",\n",
    "    headers = {\"Content-Type\": \"application/json\"},\n",
    "    data = '{\"id\": \"666\", \"name\": \"success\", \"val\": 0.2}'\n",
    ")\n",
    "print(f\"POST RECORD [{post_record.status_code}]: \"\n",
    "    f\"{post_record.text}\")"
   ]
  },
  {
   "cell_type": "code",
   "execution_count": 63,
   "metadata": {},
   "outputs": [
    {
     "name": "stdout",
     "output_type": "stream",
     "text": [
      "GET RECORD BY ID [200]: \n"
     ]
    }
   ],
   "source": [
    "# get record by ID\n",
    "get_record_by_id = requests.get(\n",
    "    url = \"http://localhost:8000/records/666\",\n",
    "    headers = {\"Content-Type\": \"application/json\"}\n",
    ")\n",
    "print(f\"GET RECORD BY ID [{get_record_by_id.status_code}]: \"\n",
    "    f\"{get_record_by_id.text}\")"
   ]
  }
 ],
 "metadata": {
  "kernelspec": {
   "display_name": "Python 3",
   "language": "python",
   "name": "python3"
  },
  "language_info": {
   "codemirror_mode": {
    "name": "ipython",
    "version": 3
   },
   "file_extension": ".py",
   "mimetype": "text/x-python",
   "name": "python",
   "nbconvert_exporter": "python",
   "pygments_lexer": "ipython3",
   "version": "3.8.16"
  },
  "orig_nbformat": 4,
  "vscode": {
   "interpreter": {
    "hash": "5b3ded1ccb95c1d9bd405e7b823d9e85424cde40fbb5985eb47e999ef50e15b4"
   }
  }
 },
 "nbformat": 4,
 "nbformat_minor": 2
}
